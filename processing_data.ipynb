{
 "cells": [
  {
   "cell_type": "code",
   "execution_count": 7,
   "id": "ae5a1123",
   "metadata": {},
   "outputs": [],
   "source": [
    "import os\n",
    "import json\n",
    "def parse_rmd(file_path):\n",
    "    with open(file_path, 'r', encoding='utf-8') as f:\n",
    "        lines = f.readlines()\n",
    "\n",
    "    data = []\n",
    "    current_heading = None\n",
    "    current_explanation = []\n",
    "    inside_code = False\n",
    "    current_code = []\n",
    "\n",
    "    for line in lines:\n",
    "        line = line.rstrip()\n",
    "\n",
    "        # Detect heading\n",
    "        if line.startswith('#'):\n",
    "            current_heading = line.lstrip('#').strip()\n",
    "            continue\n",
    "\n",
    "        # Detect start of code block\n",
    "        if line.startswith(\"```{r\"):\n",
    "            inside_code = True\n",
    "            current_code = []\n",
    "            continue\n",
    "        # Detect end of code block\n",
    "        if inside_code and line.startswith(\"```\"):\n",
    "            inside_code = False\n",
    "            data.append({\n",
    "                \"heading\": current_heading,\n",
    "                \"code\": \"\\n\".join(current_code).strip(),\n",
    "                \"explanation\": \" \".join(current_explanation).strip() if current_explanation else \"\"\n",
    "            })\n",
    "            current_explanation = []\n",
    "            continue\n",
    "\n",
    "        # Collect code\n",
    "        if inside_code:\n",
    "            current_code.append(line)\n",
    "        else:\n",
    "            if line.strip():\n",
    "                current_explanation.append(line)\n",
    "\n",
    "    return data\n",
    "\n",
    "def parse_folder(folder_path):\n",
    "    all_data = []\n",
    "    for filename in os.listdir(folder_path):\n",
    "        if filename.endswith(\".Rmd\"):\n",
    "            file_path = os.path.join(folder_path, filename)\n",
    "            print(f\"Processing {filename}...\")\n",
    "            file_data = parse_rmd(file_path)\n",
    "            # Add filename for context\n",
    "            for block in file_data:\n",
    "                block[\"source_file\"] = filename\n",
    "            all_data.extend(file_data)\n",
    "\n",
    "    # Save JSON in the same folder\n",
    "    output_json = os.path.join(folder_path, \"all_rmd_code.json\")\n",
    "    with open(output_json, 'w', encoding='utf-8') as out:\n",
    "        json.dump(all_data, out, indent=4, ensure_ascii=False)\n",
    "\n",
    "    print(f\"✅ Extracted {len(all_data)} code blocks into {output_json}\")\n",
    "\n"
   ]
  },
  {
   "cell_type": "code",
   "execution_count": 8,
   "id": "72c06aaf",
   "metadata": {},
   "outputs": [
    {
     "name": "stdout",
     "output_type": "stream",
     "text": [
      "Processing Insights from Text Data 2025 Day 6.Rmd...\n",
      "Processing Insights from Text Data 2025 Day 4.Rmd...\n",
      "Processing Insights from Text Data 2025 Day 5.Rmd...\n",
      "Processing Insights from Text Data 2025 Day 1.Rmd...\n",
      "Processing Insights from Text Data 2025 Day 2.Rmd...\n",
      "Processing Insights from Text Data 2025 Day 3.Rmd...\n",
      "✅ Extracted 219 code blocks into /Users/mathildekrafft/Desktop/class SA 2025/Text mining/Insights from Text Data 2025 Day 1/Rmd files/all_rmd_code.json\n"
     ]
    }
   ],
   "source": [
    "parse_folder(\"/Users/mathildekrafft/Desktop/class SA 2025/Text mining/Insights from Text Data 2025 Day 1/Rmd files\")"
   ]
  }
 ],
 "metadata": {
  "kernelspec": {
   "display_name": ".QNvenv",
   "language": "python",
   "name": "python3"
  },
  "language_info": {
   "codemirror_mode": {
    "name": "ipython",
    "version": 3
   },
   "file_extension": ".py",
   "mimetype": "text/x-python",
   "name": "python",
   "nbconvert_exporter": "python",
   "pygments_lexer": "ipython3",
   "version": "3.12.11"
  }
 },
 "nbformat": 4,
 "nbformat_minor": 5
}
